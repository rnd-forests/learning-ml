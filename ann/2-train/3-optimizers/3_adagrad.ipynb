{
 "cells": [
  {
   "cell_type": "markdown",
   "metadata": {},
   "source": [
    "## AdaGrad (Adaptive Gradient)"
   ]
  },
  {
   "cell_type": "code",
   "execution_count": 1,
   "metadata": {
    "collapsed": true
   },
   "outputs": [],
   "source": [
    "from IPython.display import Image"
   ]
  },
  {
   "cell_type": "markdown",
   "metadata": {},
   "source": [
    "Vectorization form:"
   ]
  },
  {
   "cell_type": "code",
   "execution_count": 2,
   "metadata": {},
   "outputs": [
    {
     "data": {
      "image/png": "[encoded data removed]",
      "text/plain": [
       "<IPython.core.display.Image object>"
      ]
     },
     "execution_count": 2,
     "metadata": {},
     "output_type": "execute_result"
    }
   ],
   "source": [
    "Image(filename='images/adagrad-vectorization.png')"
   ]
  },
  {
   "cell_type": "markdown",
   "metadata": {},
   "source": [
    "Non-vectorization form:"
   ]
  },
  {
   "cell_type": "code",
   "execution_count": 3,
   "metadata": {},
   "outputs": [
    {
     "data": {
      "image/png": "[encoded data removed]",
      "text/plain": [
       "<IPython.core.display.Image object>"
      ]
     },
     "execution_count": 3,
     "metadata": {},
     "output_type": "execute_result"
    }
   ],
   "source": [
    "Image(filename='images/adagrad-nonvectorization-1.png')"
   ]
  },
  {
   "cell_type": "code",
   "execution_count": 4,
   "metadata": {},
   "outputs": [
    {
     "data": {
      "image/png": "[encoded data removed]",
      "text/plain": [
       "<IPython.core.display.Image object>"
      ]
     },
     "execution_count": 4,
     "metadata": {},
     "output_type": "execute_result"
    }
   ],
   "source": [
    "Image(filename='images/adagrad-nonvectorization-2.png')"
   ]
  },
  {
   "cell_type": "markdown",
   "metadata": {},
   "source": [
    "The **AdaGrad** algorithm works by scaling down the gradient vector along the steepest dimensions.\n",
    "\n",
    "- The algorithm maintains a vector s which consists of square of gradients (obtained by using element-wist multiplication of gradients). In other words, each element s<sub>i</sub> accumulates the squares of the partial derivative of the cost function with regard to parameter θ<sub>i</sub>. If the cost function is steep along the i<sup>th</sup> dimension (bigger derivative), then s<sub>i</sub> will get larger after each iteration.\n",
    "\n",
    "- The second step of the algorithm is almost identical to vanilla Gradient Descent with one big difference. The gradient vector is scaled down by a factor of `sqrt(s + ε)` (obtained by using element-wise division). Epsilon is called the smoothing term which is used to prevent division by zero (usually take the value of 10<sup>-10</sup>). The equivalent non-vectorized form is shown in above figure.\n",
    "\n",
    "The general idea of this algorithm is that it decays the learning rate faster for steep dimension and lower for dimension with gentler slopes. This process is called **Adaptive Learning Rate**. One benefit of this approach is that it requires much less tuning of the learning rate hyperparameter.\n",
    "\n",
    "*Note that this algorithm is not good when training neural networks as it often stops too early. Specifically, the learning rate gets scaled down so much that the algorithm ends up stopping before reaching the global minimum. Therefore, we should not use this algorithm to train neural networks (it may be suitable for simple tasks like Linear Regression)*"
   ]
  },
  {
   "cell_type": "code",
   "execution_count": 5,
   "metadata": {
    "collapsed": true
   },
   "outputs": [],
   "source": [
    "import numpy as np\n",
    "import tensorflow as tf\n",
    "from tensorflow.examples.tutorials.mnist import input_data"
   ]
  },
  {
   "cell_type": "code",
   "execution_count": 6,
   "metadata": {
    "collapsed": true
   },
   "outputs": [],
   "source": [
    "z = np.linspace(-5, 5, 200)\n",
    "tf.reset_default_graph()\n",
    "n_inputs = 784\n",
    "n_hidden1 = 300\n",
    "n_hidden2 = 100\n",
    "n_outputs = 10\n",
    "learning_rate = 0.01"
   ]
  },
  {
   "cell_type": "code",
   "execution_count": 7,
   "metadata": {
    "collapsed": true
   },
   "outputs": [],
   "source": [
    "X = tf.placeholder(tf.float32, shape=(None, n_inputs), name=\"X\")\n",
    "y = tf.placeholder(tf.int64, shape=(None), name=\"y\")"
   ]
  },
  {
   "cell_type": "code",
   "execution_count": 8,
   "metadata": {
    "collapsed": true
   },
   "outputs": [],
   "source": [
    "with tf.name_scope(\"dnn\"):\n",
    "    hidden1 = tf.layers.dense(X, n_hidden1, activation=tf.nn.elu, name=\"hidden1\")\n",
    "    hidden2 = tf.layers.dense(hidden1, n_hidden2, activation=tf.nn.elu, name=\"hidden2\")\n",
    "    logits = tf.layers.dense(hidden2, n_outputs, name=\"outputs\")"
   ]
  },
  {
   "cell_type": "code",
   "execution_count": 9,
   "metadata": {
    "collapsed": true
   },
   "outputs": [],
   "source": [
    "with tf.name_scope(\"loss\"):\n",
    "    xen = tf.nn.sparse_softmax_cross_entropy_with_logits(labels=y, logits=logits)\n",
    "    loss = tf.reduce_mean(xen, name=\"loss\")"
   ]
  },
  {
   "cell_type": "code",
   "execution_count": 10,
   "metadata": {
    "collapsed": true
   },
   "outputs": [],
   "source": [
    "with tf.name_scope(\"train\"):\n",
    "    optimizer = tf.train.AdagradOptimizer(learning_rate=learning_rate)\n",
    "    training_op = optimizer.minimize(loss)"
   ]
  },
  {
   "cell_type": "code",
   "execution_count": 11,
   "metadata": {
    "collapsed": true
   },
   "outputs": [],
   "source": [
    "with tf.name_scope(\"eval\"):\n",
    "    correct = tf.nn.in_top_k(logits, y, 1)\n",
    "    accuracy = tf.reduce_mean(tf.cast(correct, tf.float32))"
   ]
  },
  {
   "cell_type": "code",
   "execution_count": 12,
   "metadata": {
    "collapsed": true
   },
   "outputs": [],
   "source": [
    "init = tf.global_variables_initializer()"
   ]
  },
  {
   "cell_type": "code",
   "execution_count": 13,
   "metadata": {},
   "outputs": [
    {
     "name": "stdout",
     "output_type": "stream",
     "text": [
      "Extracting /tmp/data/train-images-idx3-ubyte.gz\n",
      "Extracting /tmp/data/train-labels-idx1-ubyte.gz\n",
      "Extracting /tmp/data/t10k-images-idx3-ubyte.gz\n",
      "Extracting /tmp/data/t10k-labels-idx1-ubyte.gz\n"
     ]
    }
   ],
   "source": [
    "n_epochs = 100\n",
    "batch_size = 100\n",
    "mnist = input_data.read_data_sets(\"/tmp/data/\")"
   ]
  },
  {
   "cell_type": "code",
   "execution_count": 14,
   "metadata": {},
   "outputs": [
    {
     "name": "stdout",
     "output_type": "stream",
     "text": [
      "0 Train accuracy: 0.9 Test accuracy: 0.8592\n",
      "1 Train accuracy: 0.9 Test accuracy: 0.8861\n",
      "2 Train accuracy: 0.89 Test accuracy: 0.8954\n",
      "3 Train accuracy: 0.94 Test accuracy: 0.9\n",
      "4 Train accuracy: 0.95 Test accuracy: 0.9093\n",
      "5 Train accuracy: 0.9 Test accuracy: 0.9107\n",
      "6 Train accuracy: 0.89 Test accuracy: 0.9139\n",
      "7 Train accuracy: 0.92 Test accuracy: 0.9169\n",
      "8 Train accuracy: 0.94 Test accuracy: 0.9182\n",
      "9 Train accuracy: 0.94 Test accuracy: 0.9185\n",
      "10 Train accuracy: 0.95 Test accuracy: 0.9202\n",
      "11 Train accuracy: 0.91 Test accuracy: 0.9219\n",
      "12 Train accuracy: 0.88 Test accuracy: 0.9214\n",
      "13 Train accuracy: 0.9 Test accuracy: 0.9248\n",
      "14 Train accuracy: 0.94 Test accuracy: 0.9249\n",
      "15 Train accuracy: 0.92 Test accuracy: 0.9275\n",
      "16 Train accuracy: 0.94 Test accuracy: 0.9279\n",
      "17 Train accuracy: 0.93 Test accuracy: 0.931\n",
      "18 Train accuracy: 0.92 Test accuracy: 0.9286\n",
      "19 Train accuracy: 0.95 Test accuracy: 0.9317\n",
      "20 Train accuracy: 0.91 Test accuracy: 0.9337\n",
      "21 Train accuracy: 0.95 Test accuracy: 0.9325\n",
      "22 Train accuracy: 0.95 Test accuracy: 0.9344\n",
      "23 Train accuracy: 0.91 Test accuracy: 0.9352\n",
      "24 Train accuracy: 0.98 Test accuracy: 0.9373\n",
      "25 Train accuracy: 0.97 Test accuracy: 0.9363\n",
      "26 Train accuracy: 0.98 Test accuracy: 0.937\n",
      "27 Train accuracy: 0.9 Test accuracy: 0.9372\n",
      "28 Train accuracy: 0.93 Test accuracy: 0.9373\n",
      "29 Train accuracy: 0.95 Test accuracy: 0.9395\n",
      "30 Train accuracy: 0.93 Test accuracy: 0.9413\n",
      "31 Train accuracy: 0.96 Test accuracy: 0.9406\n",
      "32 Train accuracy: 0.92 Test accuracy: 0.9418\n",
      "33 Train accuracy: 0.98 Test accuracy: 0.9435\n",
      "34 Train accuracy: 0.93 Test accuracy: 0.9424\n",
      "35 Train accuracy: 0.94 Test accuracy: 0.9415\n",
      "36 Train accuracy: 0.95 Test accuracy: 0.9448\n",
      "37 Train accuracy: 0.92 Test accuracy: 0.9441\n",
      "38 Train accuracy: 0.93 Test accuracy: 0.9454\n",
      "39 Train accuracy: 0.97 Test accuracy: 0.9447\n",
      "40 Train accuracy: 0.94 Test accuracy: 0.9471\n",
      "41 Train accuracy: 0.96 Test accuracy: 0.9467\n",
      "42 Train accuracy: 0.95 Test accuracy: 0.9476\n",
      "43 Train accuracy: 0.97 Test accuracy: 0.9476\n",
      "44 Train accuracy: 0.92 Test accuracy: 0.9481\n",
      "45 Train accuracy: 0.95 Test accuracy: 0.9487\n",
      "46 Train accuracy: 0.95 Test accuracy: 0.9496\n",
      "47 Train accuracy: 0.95 Test accuracy: 0.9489\n",
      "48 Train accuracy: 0.95 Test accuracy: 0.9501\n",
      "49 Train accuracy: 0.96 Test accuracy: 0.9505\n",
      "50 Train accuracy: 0.97 Test accuracy: 0.9507\n",
      "51 Train accuracy: 0.97 Test accuracy: 0.9519\n",
      "52 Train accuracy: 0.96 Test accuracy: 0.9522\n",
      "53 Train accuracy: 0.98 Test accuracy: 0.9521\n",
      "54 Train accuracy: 0.98 Test accuracy: 0.9536\n",
      "55 Train accuracy: 0.97 Test accuracy: 0.9535\n",
      "56 Train accuracy: 0.96 Test accuracy: 0.9542\n",
      "57 Train accuracy: 0.94 Test accuracy: 0.9539\n",
      "58 Train accuracy: 0.96 Test accuracy: 0.9533\n",
      "59 Train accuracy: 0.95 Test accuracy: 0.9539\n",
      "60 Train accuracy: 0.96 Test accuracy: 0.9557\n",
      "61 Train accuracy: 0.98 Test accuracy: 0.9555\n",
      "62 Train accuracy: 0.95 Test accuracy: 0.9553\n",
      "63 Train accuracy: 0.99 Test accuracy: 0.9558\n",
      "64 Train accuracy: 0.96 Test accuracy: 0.9562\n",
      "65 Train accuracy: 0.95 Test accuracy: 0.9571\n",
      "66 Train accuracy: 0.96 Test accuracy: 0.9575\n",
      "67 Train accuracy: 0.94 Test accuracy: 0.9565\n",
      "68 Train accuracy: 0.94 Test accuracy: 0.9562\n",
      "69 Train accuracy: 0.98 Test accuracy: 0.957\n",
      "70 Train accuracy: 0.92 Test accuracy: 0.9583\n",
      "71 Train accuracy: 0.99 Test accuracy: 0.9589\n",
      "72 Train accuracy: 0.95 Test accuracy: 0.9574\n",
      "73 Train accuracy: 0.97 Test accuracy: 0.9578\n",
      "74 Train accuracy: 0.97 Test accuracy: 0.9584\n",
      "75 Train accuracy: 0.97 Test accuracy: 0.9587\n",
      "76 Train accuracy: 0.99 Test accuracy: 0.9591\n",
      "77 Train accuracy: 0.97 Test accuracy: 0.9592\n",
      "78 Train accuracy: 1.0 Test accuracy: 0.9598\n",
      "79 Train accuracy: 0.99 Test accuracy: 0.9606\n",
      "80 Train accuracy: 0.98 Test accuracy: 0.9595\n",
      "81 Train accuracy: 0.99 Test accuracy: 0.9609\n",
      "82 Train accuracy: 0.95 Test accuracy: 0.9602\n",
      "83 Train accuracy: 0.96 Test accuracy: 0.9597\n",
      "84 Train accuracy: 0.99 Test accuracy: 0.9603\n",
      "85 Train accuracy: 0.97 Test accuracy: 0.9604\n",
      "86 Train accuracy: 0.97 Test accuracy: 0.9616\n",
      "87 Train accuracy: 1.0 Test accuracy: 0.9621\n",
      "88 Train accuracy: 0.99 Test accuracy: 0.9607\n",
      "89 Train accuracy: 0.99 Test accuracy: 0.9614\n",
      "90 Train accuracy: 0.99 Test accuracy: 0.9626\n",
      "91 Train accuracy: 1.0 Test accuracy: 0.9617\n",
      "92 Train accuracy: 0.95 Test accuracy: 0.9625\n",
      "93 Train accuracy: 0.96 Test accuracy: 0.9618\n",
      "94 Train accuracy: 0.98 Test accuracy: 0.9624\n",
      "95 Train accuracy: 0.99 Test accuracy: 0.9623\n",
      "96 Train accuracy: 0.96 Test accuracy: 0.9627\n",
      "97 Train accuracy: 0.96 Test accuracy: 0.9615\n",
      "98 Train accuracy: 0.93 Test accuracy: 0.963\n",
      "99 Train accuracy: 0.99 Test accuracy: 0.9629\n"
     ]
    }
   ],
   "source": [
    "with tf.Session() as sess:\n",
    "    init.run()\n",
    "    for epoch in range(n_epochs):\n",
    "        for iteration in range(len(mnist.test.labels) // batch_size):\n",
    "            X_batch, y_batch = mnist.train.next_batch(batch_size)\n",
    "            sess.run(training_op, feed_dict={X: X_batch, y: y_batch})\n",
    "        acc_train = accuracy.eval(feed_dict={X: X_batch, y: y_batch})\n",
    "        acc_test = accuracy.eval(feed_dict={X: mnist.test.images, y: mnist.test.labels})\n",
    "        print(epoch, \"Train accuracy:\", acc_train, \"Test accuracy:\", acc_test)"
   ]
  }
 ],
 "metadata": {
  "kernelspec": {
   "display_name": "Python 3",
   "language": "python",
   "name": "python3"
  },
  "language_info": {
   "codemirror_mode": {
    "name": "ipython",
    "version": 3
   },
   "file_extension": ".py",
   "mimetype": "text/x-python",
   "name": "python",
   "nbconvert_exporter": "python",
   "pygments_lexer": "ipython3",
   "version": "3.5.2"
  }
 },
 "nbformat": 4,
 "nbformat_minor": 2
}
