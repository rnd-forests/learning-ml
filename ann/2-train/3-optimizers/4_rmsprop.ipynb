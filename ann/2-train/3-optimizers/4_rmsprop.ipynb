{
 "cells": [
  {
   "cell_type": "markdown",
   "metadata": {},
   "source": [
    "## RMSProp"
   ]
  },
  {
   "cell_type": "code",
   "execution_count": 1,
   "metadata": {
    "collapsed": true
   },
   "outputs": [],
   "source": [
    "from IPython.display import Image"
   ]
  },
  {
   "cell_type": "markdown",
   "metadata": {},
   "source": [
    "RMSProp fixes the problem of AdaGrad which is stopping too early before reaching the global minimum. The idea is that RMSProp accumulates gradients from the most recent iterations only rather than from the beginning of the training process. The only difference from AdaGrad is that RMSProp uses exponential decay - beta (usually take the value of 0.9)."
   ]
  },
  {
   "cell_type": "code",
   "execution_count": 2,
   "metadata": {},
   "outputs": [
    {
     "data": {
      "image/png": "[encoded data removed]",
      "text/plain": [
       "<IPython.core.display.Image object>"
      ]
     },
     "execution_count": 2,
     "metadata": {},
     "output_type": "execute_result"
    }
   ],
   "source": [
    "Image(filename='images/rmsprop.png')"
   ]
  },
  {
   "cell_type": "code",
   "execution_count": 3,
   "metadata": {
    "collapsed": true
   },
   "outputs": [],
   "source": [
    "import tensorflow as tf\n",
    "from tensorflow.examples.tutorials.mnist import input_data"
   ]
  },
  {
   "cell_type": "code",
   "execution_count": 4,
   "metadata": {
    "collapsed": true
   },
   "outputs": [],
   "source": [
    "tf.reset_default_graph()\n",
    "n_inputs = 784\n",
    "n_hidden1 = 300\n",
    "n_hidden2 = 100\n",
    "n_outputs = 10\n",
    "learning_rate = 0.01"
   ]
  },
  {
   "cell_type": "code",
   "execution_count": 5,
   "metadata": {
    "collapsed": true
   },
   "outputs": [],
   "source": [
    "X = tf.placeholder(tf.float32, shape=(None, n_inputs), name=\"X\")\n",
    "y = tf.placeholder(tf.int64, shape=(None), name=\"y\")"
   ]
  },
  {
   "cell_type": "code",
   "execution_count": 6,
   "metadata": {
    "collapsed": true
   },
   "outputs": [],
   "source": [
    "with tf.name_scope(\"dnn\"):\n",
    "    hidden1 = tf.layers.dense(X, n_hidden1, activation=tf.nn.elu, name=\"hidden1\")\n",
    "    hidden2 = tf.layers.dense(hidden1, n_hidden2, activation=tf.nn.elu, name=\"hidden2\")\n",
    "    logits = tf.layers.dense(hidden2, n_outputs, name=\"outputs\")"
   ]
  },
  {
   "cell_type": "code",
   "execution_count": 7,
   "metadata": {
    "collapsed": true
   },
   "outputs": [],
   "source": [
    "with tf.name_scope(\"loss\"):\n",
    "    xen = tf.nn.sparse_softmax_cross_entropy_with_logits(labels=y, logits=logits)\n",
    "    loss = tf.reduce_mean(xen, name=\"loss\")"
   ]
  },
  {
   "cell_type": "code",
   "execution_count": 8,
   "metadata": {
    "collapsed": true
   },
   "outputs": [],
   "source": [
    "with tf.name_scope(\"train\"):\n",
    "    optimizer = tf.train.RMSPropOptimizer(learning_rate=learning_rate, decay=0.9)\n",
    "    training_op = optimizer.minimize(loss)"
   ]
  },
  {
   "cell_type": "code",
   "execution_count": 9,
   "metadata": {
    "collapsed": true
   },
   "outputs": [],
   "source": [
    "with tf.name_scope(\"eval\"):\n",
    "    correct = tf.nn.in_top_k(logits, y, 1)\n",
    "    accuracy = tf.reduce_mean(tf.cast(correct, tf.float32))"
   ]
  },
  {
   "cell_type": "code",
   "execution_count": 10,
   "metadata": {
    "collapsed": true
   },
   "outputs": [],
   "source": [
    "init = tf.global_variables_initializer()"
   ]
  },
  {
   "cell_type": "code",
   "execution_count": 11,
   "metadata": {},
   "outputs": [
    {
     "name": "stdout",
     "output_type": "stream",
     "text": [
      "Extracting /tmp/data/train-images-idx3-ubyte.gz\n",
      "Extracting /tmp/data/train-labels-idx1-ubyte.gz\n",
      "Extracting /tmp/data/t10k-images-idx3-ubyte.gz\n",
      "Extracting /tmp/data/t10k-labels-idx1-ubyte.gz\n"
     ]
    }
   ],
   "source": [
    "n_epochs = 100\n",
    "batch_size = 100\n",
    "mnist = input_data.read_data_sets(\"/tmp/data/\")"
   ]
  },
  {
   "cell_type": "code",
   "execution_count": 12,
   "metadata": {},
   "outputs": [
    {
     "name": "stdout",
     "output_type": "stream",
     "text": [
      "0 Train accuracy: 0.38 Test accuracy: 0.3083\n",
      "1 Train accuracy: 0.9 Test accuracy: 0.8084\n",
      "2 Train accuracy: 0.99 Test accuracy: 0.914\n",
      "3 Train accuracy: 0.99 Test accuracy: 0.9367\n",
      "4 Train accuracy: 0.94 Test accuracy: 0.8765\n",
      "5 Train accuracy: 0.98 Test accuracy: 0.9391\n",
      "6 Train accuracy: 0.98 Test accuracy: 0.951\n",
      "7 Train accuracy: 1.0 Test accuracy: 0.946\n",
      "8 Train accuracy: 0.98 Test accuracy: 0.9137\n",
      "9 Train accuracy: 0.92 Test accuracy: 0.9046\n",
      "10 Train accuracy: 0.99 Test accuracy: 0.9585\n",
      "11 Train accuracy: 0.98 Test accuracy: 0.9614\n",
      "12 Train accuracy: 0.99 Test accuracy: 0.9554\n",
      "13 Train accuracy: 0.97 Test accuracy: 0.9473\n",
      "14 Train accuracy: 0.99 Test accuracy: 0.9622\n",
      "15 Train accuracy: 0.98 Test accuracy: 0.9375\n",
      "16 Train accuracy: 1.0 Test accuracy: 0.9643\n",
      "17 Train accuracy: 0.98 Test accuracy: 0.9614\n",
      "18 Train accuracy: 0.99 Test accuracy: 0.9494\n",
      "19 Train accuracy: 0.99 Test accuracy: 0.962\n",
      "20 Train accuracy: 1.0 Test accuracy: 0.9608\n",
      "21 Train accuracy: 0.98 Test accuracy: 0.9559\n",
      "22 Train accuracy: 0.99 Test accuracy: 0.9688\n",
      "23 Train accuracy: 0.99 Test accuracy: 0.9655\n",
      "24 Train accuracy: 1.0 Test accuracy: 0.9667\n",
      "25 Train accuracy: 1.0 Test accuracy: 0.9638\n",
      "26 Train accuracy: 1.0 Test accuracy: 0.9625\n",
      "27 Train accuracy: 0.97 Test accuracy: 0.9512\n",
      "28 Train accuracy: 1.0 Test accuracy: 0.9676\n",
      "29 Train accuracy: 1.0 Test accuracy: 0.9699\n",
      "30 Train accuracy: 1.0 Test accuracy: 0.9654\n",
      "31 Train accuracy: 0.99 Test accuracy: 0.9647\n",
      "32 Train accuracy: 1.0 Test accuracy: 0.965\n",
      "33 Train accuracy: 1.0 Test accuracy: 0.9704\n",
      "34 Train accuracy: 1.0 Test accuracy: 0.9711\n",
      "35 Train accuracy: 1.0 Test accuracy: 0.9663\n",
      "36 Train accuracy: 1.0 Test accuracy: 0.9703\n",
      "37 Train accuracy: 0.99 Test accuracy: 0.9665\n",
      "38 Train accuracy: 0.98 Test accuracy: 0.9674\n",
      "39 Train accuracy: 1.0 Test accuracy: 0.9709\n",
      "40 Train accuracy: 0.99 Test accuracy: 0.9668\n",
      "41 Train accuracy: 1.0 Test accuracy: 0.9637\n",
      "42 Train accuracy: 0.98 Test accuracy: 0.9408\n",
      "43 Train accuracy: 0.99 Test accuracy: 0.972\n",
      "44 Train accuracy: 1.0 Test accuracy: 0.9721\n",
      "45 Train accuracy: 1.0 Test accuracy: 0.9701\n",
      "46 Train accuracy: 1.0 Test accuracy: 0.9635\n",
      "47 Train accuracy: 1.0 Test accuracy: 0.9653\n",
      "48 Train accuracy: 1.0 Test accuracy: 0.971\n",
      "49 Train accuracy: 1.0 Test accuracy: 0.9717\n",
      "50 Train accuracy: 1.0 Test accuracy: 0.9703\n",
      "51 Train accuracy: 1.0 Test accuracy: 0.9745\n",
      "52 Train accuracy: 0.98 Test accuracy: 0.9656\n",
      "53 Train accuracy: 1.0 Test accuracy: 0.9699\n",
      "54 Train accuracy: 1.0 Test accuracy: 0.966\n",
      "55 Train accuracy: 1.0 Test accuracy: 0.9675\n",
      "56 Train accuracy: 1.0 Test accuracy: 0.9729\n",
      "57 Train accuracy: 1.0 Test accuracy: 0.9708\n",
      "58 Train accuracy: 1.0 Test accuracy: 0.9692\n",
      "59 Train accuracy: 1.0 Test accuracy: 0.973\n",
      "60 Train accuracy: 0.99 Test accuracy: 0.9679\n",
      "61 Train accuracy: 1.0 Test accuracy: 0.9678\n",
      "62 Train accuracy: 1.0 Test accuracy: 0.9748\n",
      "63 Train accuracy: 1.0 Test accuracy: 0.9745\n",
      "64 Train accuracy: 1.0 Test accuracy: 0.9727\n",
      "65 Train accuracy: 1.0 Test accuracy: 0.9674\n",
      "66 Train accuracy: 1.0 Test accuracy: 0.9723\n",
      "67 Train accuracy: 0.99 Test accuracy: 0.966\n",
      "68 Train accuracy: 1.0 Test accuracy: 0.9732\n",
      "69 Train accuracy: 1.0 Test accuracy: 0.9688\n",
      "70 Train accuracy: 1.0 Test accuracy: 0.9671\n",
      "71 Train accuracy: 1.0 Test accuracy: 0.9689\n",
      "72 Train accuracy: 1.0 Test accuracy: 0.9734\n",
      "73 Train accuracy: 1.0 Test accuracy: 0.9752\n",
      "74 Train accuracy: 1.0 Test accuracy: 0.9738\n",
      "75 Train accuracy: 1.0 Test accuracy: 0.9713\n",
      "76 Train accuracy: 0.99 Test accuracy: 0.9705\n",
      "77 Train accuracy: 0.99 Test accuracy: 0.9758\n",
      "78 Train accuracy: 1.0 Test accuracy: 0.9731\n",
      "79 Train accuracy: 1.0 Test accuracy: 0.9685\n",
      "80 Train accuracy: 1.0 Test accuracy: 0.9711\n",
      "81 Train accuracy: 1.0 Test accuracy: 0.9695\n",
      "82 Train accuracy: 0.99 Test accuracy: 0.9663\n",
      "83 Train accuracy: 0.99 Test accuracy: 0.975\n",
      "84 Train accuracy: 0.99 Test accuracy: 0.9693\n",
      "85 Train accuracy: 1.0 Test accuracy: 0.9753\n",
      "86 Train accuracy: 1.0 Test accuracy: 0.9738\n",
      "87 Train accuracy: 1.0 Test accuracy: 0.9755\n",
      "88 Train accuracy: 0.99 Test accuracy: 0.9752\n",
      "89 Train accuracy: 1.0 Test accuracy: 0.9709\n",
      "90 Train accuracy: 0.99 Test accuracy: 0.9687\n",
      "91 Train accuracy: 1.0 Test accuracy: 0.971\n",
      "92 Train accuracy: 0.99 Test accuracy: 0.973\n",
      "93 Train accuracy: 1.0 Test accuracy: 0.9719\n",
      "94 Train accuracy: 1.0 Test accuracy: 0.9766\n",
      "95 Train accuracy: 1.0 Test accuracy: 0.9724\n",
      "96 Train accuracy: 1.0 Test accuracy: 0.9733\n",
      "97 Train accuracy: 1.0 Test accuracy: 0.975\n",
      "98 Train accuracy: 0.99 Test accuracy: 0.9742\n",
      "99 Train accuracy: 1.0 Test accuracy: 0.9764\n"
     ]
    }
   ],
   "source": [
    "with tf.Session() as sess:\n",
    "    init.run()\n",
    "    for epoch in range(n_epochs):\n",
    "        for iteration in range(len(mnist.test.labels) // batch_size):\n",
    "            X_batch, y_batch = mnist.train.next_batch(batch_size)\n",
    "            sess.run(training_op, feed_dict={X: X_batch, y: y_batch})\n",
    "        acc_train = accuracy.eval(feed_dict={X: X_batch, y: y_batch})\n",
    "        acc_test = accuracy.eval(feed_dict={X: mnist.test.images, y: mnist.test.labels})\n",
    "        print(epoch, \"Train accuracy:\", acc_train, \"Test accuracy:\", acc_test)"
   ]
  }
 ],
 "metadata": {
  "kernelspec": {
   "display_name": "Python 3",
   "language": "python",
   "name": "python3"
  },
  "language_info": {
   "codemirror_mode": {
    "name": "ipython",
    "version": 3
   },
   "file_extension": ".py",
   "mimetype": "text/x-python",
   "name": "python",
   "nbconvert_exporter": "python",
   "pygments_lexer": "ipython3",
   "version": "3.5.2"
  }
 },
 "nbformat": 4,
 "nbformat_minor": 2
}
