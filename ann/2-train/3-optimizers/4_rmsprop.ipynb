{
 "cells": [
  {
   "cell_type": "markdown",
   "metadata": {},
   "source": [
    "## RMSProp"
   ]
  },
  {
   "cell_type": "markdown",
   "metadata": {},
   "source": [
    "RMSProp fixes the problem of AdaGrad which is stopping too early before reaching the global minimum. The idea is that RMSProp accumulates gradients from the most recent iterations only rather than from the beginning of the training process. The only difference from AdaGrad is that RMSProp uses exponential decay - beta (usually take the value of 0.9).\n",
    "\n",
    "![](https://photos-4.dropbox.com/t/2/AADa_YmiKMsNtymIxb0PnXydy2xYUNMHKBFTDUdS1E5Z2w/12/63047491/png/32x32/1/_/1/2/Screenshot%20from%202017-11-03%2014-18-43.png/EITw7jAYwz4gBygH/yOpFV3HW8_iJFmHCpT3T-C0ZthgBUOU0WwdlLTvx-eA?size=2048x1536&size_mode=3)"
   ]
  },
  {
   "cell_type": "code",
   "execution_count": 1,
   "metadata": {
    "collapsed": true
   },
   "outputs": [],
   "source": [
    "import numpy as np\n",
    "import tensorflow as tf\n",
    "from tensorflow.examples.tutorials.mnist import input_data"
   ]
  },
  {
   "cell_type": "code",
   "execution_count": 2,
   "metadata": {
    "collapsed": true
   },
   "outputs": [],
   "source": [
    "z = np.linspace(-5, 5, 200)\n",
    "tf.reset_default_graph()\n",
    "n_inputs = 784\n",
    "n_hidden1 = 300\n",
    "n_hidden2 = 100\n",
    "n_outputs = 10\n",
    "learning_rate = 0.01"
   ]
  },
  {
   "cell_type": "code",
   "execution_count": 3,
   "metadata": {
    "collapsed": true
   },
   "outputs": [],
   "source": [
    "X = tf.placeholder(tf.float32, shape=(None, n_inputs), name=\"X\")\n",
    "y = tf.placeholder(tf.int64, shape=(None), name=\"y\")"
   ]
  },
  {
   "cell_type": "code",
   "execution_count": 4,
   "metadata": {
    "collapsed": true
   },
   "outputs": [],
   "source": [
    "with tf.name_scope(\"dnn\"):\n",
    "    hidden1 = tf.layers.dense(X, n_hidden1, activation=tf.nn.elu, name=\"hidden1\")\n",
    "    hidden2 = tf.layers.dense(hidden1, n_hidden2, activation=tf.nn.elu, name=\"hidden2\")\n",
    "    logits = tf.layers.dense(hidden2, n_outputs, name=\"outputs\")"
   ]
  },
  {
   "cell_type": "code",
   "execution_count": 5,
   "metadata": {
    "collapsed": true
   },
   "outputs": [],
   "source": [
    "with tf.name_scope(\"loss\"):\n",
    "    xen = tf.nn.sparse_softmax_cross_entropy_with_logits(labels=y, logits=logits)\n",
    "    loss = tf.reduce_mean(xen, name=\"loss\")"
   ]
  },
  {
   "cell_type": "code",
   "execution_count": 6,
   "metadata": {},
   "outputs": [],
   "source": [
    "with tf.name_scope(\"train\"):\n",
    "    optimizer = tf.train.RMSPropOptimizer(learning_rate=learning_rate, decay=0.9)\n",
    "    training_op = optimizer.minimize(loss)"
   ]
  },
  {
   "cell_type": "code",
   "execution_count": 7,
   "metadata": {
    "collapsed": true
   },
   "outputs": [],
   "source": [
    "with tf.name_scope(\"eval\"):\n",
    "    correct = tf.nn.in_top_k(logits, y, 1)\n",
    "    accuracy = tf.reduce_mean(tf.cast(correct, tf.float32))"
   ]
  },
  {
   "cell_type": "code",
   "execution_count": 8,
   "metadata": {
    "collapsed": true
   },
   "outputs": [],
   "source": [
    "init = tf.global_variables_initializer()"
   ]
  },
  {
   "cell_type": "code",
   "execution_count": 9,
   "metadata": {},
   "outputs": [
    {
     "name": "stdout",
     "output_type": "stream",
     "text": [
      "Extracting /tmp/data/train-images-idx3-ubyte.gz\n",
      "Extracting /tmp/data/train-labels-idx1-ubyte.gz\n",
      "Extracting /tmp/data/t10k-images-idx3-ubyte.gz\n",
      "Extracting /tmp/data/t10k-labels-idx1-ubyte.gz\n"
     ]
    }
   ],
   "source": [
    "n_epochs = 100\n",
    "batch_size = 100\n",
    "mnist = input_data.read_data_sets(\"/tmp/data/\")"
   ]
  },
  {
   "cell_type": "code",
   "execution_count": 10,
   "metadata": {},
   "outputs": [
    {
     "name": "stdout",
     "output_type": "stream",
     "text": [
      "0 Train accuracy: 0.49 Test accuracy: 0.4002\n",
      "1 Train accuracy: 0.88 Test accuracy: 0.7907\n",
      "2 Train accuracy: 0.94 Test accuracy: 0.9105\n",
      "3 Train accuracy: 0.92 Test accuracy: 0.9039\n",
      "4 Train accuracy: 0.95 Test accuracy: 0.9227\n",
      "5 Train accuracy: 1.0 Test accuracy: 0.9418\n",
      "6 Train accuracy: 0.96 Test accuracy: 0.9325\n",
      "7 Train accuracy: 0.98 Test accuracy: 0.9412\n",
      "8 Train accuracy: 0.96 Test accuracy: 0.9371\n",
      "9 Train accuracy: 1.0 Test accuracy: 0.9541\n",
      "10 Train accuracy: 0.96 Test accuracy: 0.9491\n",
      "11 Train accuracy: 0.96 Test accuracy: 0.9492\n",
      "12 Train accuracy: 1.0 Test accuracy: 0.9441\n",
      "13 Train accuracy: 1.0 Test accuracy: 0.9581\n",
      "14 Train accuracy: 0.97 Test accuracy: 0.9509\n",
      "15 Train accuracy: 0.96 Test accuracy: 0.9448\n",
      "16 Train accuracy: 1.0 Test accuracy: 0.9578\n",
      "17 Train accuracy: 1.0 Test accuracy: 0.9633\n",
      "18 Train accuracy: 1.0 Test accuracy: 0.9591\n",
      "19 Train accuracy: 1.0 Test accuracy: 0.9636\n",
      "20 Train accuracy: 1.0 Test accuracy: 0.9667\n",
      "21 Train accuracy: 0.99 Test accuracy: 0.9637\n",
      "22 Train accuracy: 0.99 Test accuracy: 0.97\n",
      "23 Train accuracy: 0.98 Test accuracy: 0.9564\n",
      "24 Train accuracy: 0.99 Test accuracy: 0.9519\n",
      "25 Train accuracy: 0.99 Test accuracy: 0.956\n",
      "26 Train accuracy: 1.0 Test accuracy: 0.9663\n",
      "27 Train accuracy: 1.0 Test accuracy: 0.9704\n",
      "28 Train accuracy: 1.0 Test accuracy: 0.9615\n",
      "29 Train accuracy: 0.97 Test accuracy: 0.9634\n",
      "30 Train accuracy: 1.0 Test accuracy: 0.9626\n",
      "31 Train accuracy: 1.0 Test accuracy: 0.964\n",
      "32 Train accuracy: 1.0 Test accuracy: 0.9687\n",
      "33 Train accuracy: 1.0 Test accuracy: 0.9681\n",
      "34 Train accuracy: 1.0 Test accuracy: 0.9705\n",
      "35 Train accuracy: 0.98 Test accuracy: 0.9524\n",
      "36 Train accuracy: 0.98 Test accuracy: 0.9536\n",
      "37 Train accuracy: 0.99 Test accuracy: 0.9712\n",
      "38 Train accuracy: 0.95 Test accuracy: 0.9622\n",
      "39 Train accuracy: 1.0 Test accuracy: 0.9711\n",
      "40 Train accuracy: 1.0 Test accuracy: 0.965\n",
      "41 Train accuracy: 0.99 Test accuracy: 0.9652\n",
      "42 Train accuracy: 1.0 Test accuracy: 0.9688\n",
      "43 Train accuracy: 0.98 Test accuracy: 0.9704\n",
      "44 Train accuracy: 1.0 Test accuracy: 0.9616\n",
      "45 Train accuracy: 1.0 Test accuracy: 0.9737\n",
      "46 Train accuracy: 0.99 Test accuracy: 0.9704\n",
      "47 Train accuracy: 1.0 Test accuracy: 0.9708\n",
      "48 Train accuracy: 1.0 Test accuracy: 0.9675\n",
      "49 Train accuracy: 1.0 Test accuracy: 0.9712\n",
      "50 Train accuracy: 1.0 Test accuracy: 0.9697\n",
      "51 Train accuracy: 1.0 Test accuracy: 0.9678\n",
      "52 Train accuracy: 1.0 Test accuracy: 0.9643\n",
      "53 Train accuracy: 1.0 Test accuracy: 0.9655\n",
      "54 Train accuracy: 1.0 Test accuracy: 0.966\n",
      "55 Train accuracy: 0.99 Test accuracy: 0.961\n",
      "56 Train accuracy: 1.0 Test accuracy: 0.9634\n",
      "57 Train accuracy: 1.0 Test accuracy: 0.9693\n",
      "58 Train accuracy: 1.0 Test accuracy: 0.973\n",
      "59 Train accuracy: 0.98 Test accuracy: 0.9545\n",
      "60 Train accuracy: 0.98 Test accuracy: 0.971\n",
      "61 Train accuracy: 1.0 Test accuracy: 0.9715\n",
      "62 Train accuracy: 0.99 Test accuracy: 0.9712\n",
      "63 Train accuracy: 1.0 Test accuracy: 0.9727\n",
      "64 Train accuracy: 1.0 Test accuracy: 0.9631\n",
      "65 Train accuracy: 1.0 Test accuracy: 0.973\n",
      "66 Train accuracy: 1.0 Test accuracy: 0.9746\n",
      "67 Train accuracy: 1.0 Test accuracy: 0.9632\n",
      "68 Train accuracy: 1.0 Test accuracy: 0.9714\n",
      "69 Train accuracy: 0.96 Test accuracy: 0.9564\n",
      "70 Train accuracy: 1.0 Test accuracy: 0.9711\n",
      "71 Train accuracy: 1.0 Test accuracy: 0.9683\n",
      "72 Train accuracy: 0.99 Test accuracy: 0.9733\n",
      "73 Train accuracy: 1.0 Test accuracy: 0.9716\n",
      "74 Train accuracy: 0.99 Test accuracy: 0.9656\n",
      "75 Train accuracy: 1.0 Test accuracy: 0.9718\n",
      "76 Train accuracy: 1.0 Test accuracy: 0.9665\n",
      "77 Train accuracy: 1.0 Test accuracy: 0.9734\n",
      "78 Train accuracy: 1.0 Test accuracy: 0.9729\n",
      "79 Train accuracy: 0.98 Test accuracy: 0.9683\n",
      "80 Train accuracy: 1.0 Test accuracy: 0.9692\n",
      "81 Train accuracy: 0.98 Test accuracy: 0.9726\n",
      "82 Train accuracy: 1.0 Test accuracy: 0.9755\n",
      "83 Train accuracy: 0.99 Test accuracy: 0.9745\n",
      "84 Train accuracy: 0.99 Test accuracy: 0.9732\n",
      "85 Train accuracy: 1.0 Test accuracy: 0.9665\n",
      "86 Train accuracy: 0.99 Test accuracy: 0.9706\n",
      "87 Train accuracy: 1.0 Test accuracy: 0.9716\n",
      "88 Train accuracy: 1.0 Test accuracy: 0.9715\n",
      "89 Train accuracy: 1.0 Test accuracy: 0.9758\n",
      "90 Train accuracy: 0.99 Test accuracy: 0.9678\n",
      "91 Train accuracy: 1.0 Test accuracy: 0.9767\n",
      "92 Train accuracy: 1.0 Test accuracy: 0.9776\n",
      "93 Train accuracy: 1.0 Test accuracy: 0.9739\n",
      "94 Train accuracy: 1.0 Test accuracy: 0.9772\n",
      "95 Train accuracy: 1.0 Test accuracy: 0.9731\n",
      "96 Train accuracy: 0.99 Test accuracy: 0.9694\n",
      "97 Train accuracy: 1.0 Test accuracy: 0.9688\n",
      "98 Train accuracy: 1.0 Test accuracy: 0.9717\n",
      "99 Train accuracy: 1.0 Test accuracy: 0.968\n"
     ]
    }
   ],
   "source": [
    "with tf.Session() as sess:\n",
    "    init.run()\n",
    "    for epoch in range(n_epochs):\n",
    "        for iteration in range(len(mnist.test.labels) // batch_size):\n",
    "            X_batch, y_batch = mnist.train.next_batch(batch_size)\n",
    "            sess.run(training_op, feed_dict={X: X_batch, y: y_batch})\n",
    "        acc_train = accuracy.eval(feed_dict={X: X_batch, y: y_batch})\n",
    "        acc_test = accuracy.eval(feed_dict={X: mnist.test.images, y: mnist.test.labels})\n",
    "        print(epoch, \"Train accuracy:\", acc_train, \"Test accuracy:\", acc_test)"
   ]
  }
 ],
 "metadata": {
  "kernelspec": {
   "display_name": "Python 3",
   "language": "python",
   "name": "python3"
  },
  "language_info": {
   "codemirror_mode": {
    "name": "ipython",
    "version": 3
   },
   "file_extension": ".py",
   "mimetype": "text/x-python",
   "name": "python",
   "nbconvert_exporter": "python",
   "pygments_lexer": "ipython3",
   "version": "3.5.2"
  }
 },
 "nbformat": 4,
 "nbformat_minor": 2
}
