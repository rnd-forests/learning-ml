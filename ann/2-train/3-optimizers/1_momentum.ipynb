{
 "cells": [
  {
   "cell_type": "markdown",
   "metadata": {},
   "source": [
    "## Momentum Optimization"
   ]
  },
  {
   "cell_type": "markdown",
   "metadata": {},
   "source": [
    "Ref: https://distill.pub/2017/momentum/\n",
    "\n",
    "Ref: https://en.wikipedia.org/wiki/Moving_average\n",
    "\n",
    "Gradient Descent takes small regular steps down the slope, so it'll take a lot of time to reach the minumum. Gradient Descent updates the weights $\\theta$ by subtracting the gradient of the cost function $J(\\theta)$ with respect to the weights multiplied by the learning rate. Note that Gradient Descent pays no attention to the previous gradients. If the local gradient is small, Gradient Descent goes very slowly.\n",
    "\n",
    "Momentum optimization, on the other hand, pays a great attention to previous gradients. At each iteration, it maintains a momentum vector $m$ by adding local gradients to this vector. At each iteration, it subtracts the local gradient (multiplied by the learning rate) from the vector $m$. It then updates the weights by adding this momentum vector to the current weights."
   ]
  },
  {
   "cell_type": "code",
   "execution_count": 1,
   "metadata": {
    "scrolled": true
   },
   "outputs": [
    {
     "data": {
      "image/png": "[encoded data removed]",
      "text/plain": [
       "<IPython.core.display.Image object>"
      ]
     },
     "execution_count": 1,
     "metadata": {},
     "output_type": "execute_result"
    }
   ],
   "source": [
    "from IPython.display import Image\n",
    "Image(filename='images/momentum.png')"
   ]
  },
  {
   "cell_type": "markdown",
   "metadata": {},
   "source": [
    "In Momentum optimization, the gradient is used as an acceleration not a speed.\n",
    "\n",
    "To prevent the momentum from growing too large, we use a hyperparameter $\\beta$ (called momentum) which receives a value between 0 and 1 (generally $\\beta$ is set to 0.9). If $\\beta$ is equal to 0, then Momentum becomes the normal Gradient Descent (high friction). If $\\beta$ is close to 1 (no friction), then Momentum goes much faster than normal Gradient Descent.\n",
    "\n",
    "If the gradient remains constant, the terminal velocity is equal to $(1 \\space / \\space (1 \\space - \\space \\beta)) \\space * \\space \\eta \\nabla_\\theta J(\\theta)$. If $\\beta$ = 0.9, the terminal velocity is equal to $10 \\space * \\space \\eta \\nabla_\\theta J(\\theta)$, Momentum optimization would go 10 times faster than Gradient Descent (1000 times if $\\beta = 0.999$). This characteristic allows Momentum optimization to escape from plateaus much faster than Gradient Descent.\n",
    "\n",
    "When input features have very different scales (the cost looks like a elongated bowl), Gradient Descent goes down the steep slope quite fast, but it's very slow when going down the valley. Momentum, on the other hand, can accelerate itself when going to the bottom of valley (the optimum).\n",
    "\n",
    "In DNN which doesn't use Batch Normalization, the upper layers often end up having inputs with very different scales, using Momentum can be a solution for this problem (it can also escapes the local minimum)\n",
    "\n",
    "Momentum optimization may overshoot multiple times through its steps (like pendulum oscillation) before stabilizing at the minimum. That's why we use $\\beta$ hyperparameter to introduce a bit of friction in the system to reduce the overshooting duration and speed up convergence.\n",
    "\n",
    "A drawback of Momentum optimization is that it introduces a new hyperparameter - $\\beta$ for tuning. However, in real-life problems this value is usually set to 0.9, and it works well in lots of problems. Generally, Momentum optimization is faster when reaching to the minimum than Gradient Descent."
   ]
  },
  {
   "cell_type": "code",
   "execution_count": 2,
   "metadata": {
    "collapsed": true,
    "scrolled": true
   },
   "outputs": [],
   "source": [
    "import tensorflow as tf\n",
    "from tensorflow.examples.tutorials.mnist import input_data"
   ]
  },
  {
   "cell_type": "code",
   "execution_count": 3,
   "metadata": {
    "collapsed": true,
    "scrolled": true
   },
   "outputs": [],
   "source": [
    "tf.reset_default_graph()\n",
    "n_inputs = 784\n",
    "n_hidden1 = 300\n",
    "n_hidden2 = 100\n",
    "n_outputs = 10\n",
    "learning_rate = 0.01"
   ]
  },
  {
   "cell_type": "code",
   "execution_count": 4,
   "metadata": {
    "collapsed": true,
    "scrolled": true
   },
   "outputs": [],
   "source": [
    "X = tf.placeholder(tf.float32, shape=(None, n_inputs), name=\"X\")\n",
    "y = tf.placeholder(tf.int64, shape=(None), name=\"y\")"
   ]
  },
  {
   "cell_type": "code",
   "execution_count": 5,
   "metadata": {
    "collapsed": true,
    "scrolled": true
   },
   "outputs": [],
   "source": [
    "with tf.name_scope(\"dnn\"):\n",
    "    hidden1 = tf.layers.dense(X, n_hidden1, activation=tf.nn.elu, name=\"hidden1\")\n",
    "    hidden2 = tf.layers.dense(hidden1, n_hidden2, activation=tf.nn.elu, name=\"hidden2\")\n",
    "    logits = tf.layers.dense(hidden2, n_outputs, name=\"outputs\")\n",
    "\n",
    "with tf.name_scope(\"loss\"):\n",
    "    xen = tf.nn.sparse_softmax_cross_entropy_with_logits(labels=y, logits=logits)\n",
    "    loss = tf.reduce_mean(xen, name=\"loss\")\n",
    "\n",
    "with tf.name_scope(\"train\"):\n",
    "    # Using Momentum optimizer rather than Gradient Descent optimizer\n",
    "    optimizer = tf.train.MomentumOptimizer(learning_rate=learning_rate, momentum=0.9)\n",
    "    training_op = optimizer.minimize(loss)\n",
    "\n",
    "with tf.name_scope(\"eval\"):\n",
    "    correct = tf.nn.in_top_k(logits, y, 1)\n",
    "    accuracy = tf.reduce_mean(tf.cast(correct, tf.float32))"
   ]
  },
  {
   "cell_type": "code",
   "execution_count": 6,
   "metadata": {
    "scrolled": false
   },
   "outputs": [
    {
     "name": "stdout",
     "output_type": "stream",
     "text": [
      "Successfully downloaded train-images-idx3-ubyte.gz 9912422 bytes.\n",
      "Extracting /tmp/data/train-images-idx3-ubyte.gz\n",
      "Successfully downloaded train-labels-idx1-ubyte.gz 28881 bytes.\n",
      "Extracting /tmp/data/train-labels-idx1-ubyte.gz\n",
      "Successfully downloaded t10k-images-idx3-ubyte.gz 1648877 bytes.\n",
      "Extracting /tmp/data/t10k-images-idx3-ubyte.gz\n",
      "Successfully downloaded t10k-labels-idx1-ubyte.gz 4542 bytes.\n",
      "Extracting /tmp/data/t10k-labels-idx1-ubyte.gz\n",
      "0 Test accuracy: 0.8892\n",
      "1 Test accuracy: 0.9034\n",
      "2 Test accuracy: 0.9158\n",
      "3 Test accuracy: 0.9196\n",
      "4 Test accuracy: 0.9241\n",
      "5 Test accuracy: 0.9259\n",
      "6 Test accuracy: 0.9303\n",
      "7 Test accuracy: 0.9382\n",
      "8 Test accuracy: 0.9368\n",
      "9 Test accuracy: 0.9418\n",
      "10 Test accuracy: 0.9428\n",
      "11 Test accuracy: 0.9456\n",
      "12 Test accuracy: 0.9462\n",
      "13 Test accuracy: 0.9505\n",
      "14 Test accuracy: 0.9524\n",
      "15 Test accuracy: 0.9512\n",
      "16 Test accuracy: 0.9552\n",
      "17 Test accuracy: 0.9562\n",
      "18 Test accuracy: 0.9582\n",
      "19 Test accuracy: 0.9601\n",
      "20 Test accuracy: 0.9606\n",
      "21 Test accuracy: 0.96\n",
      "22 Test accuracy: 0.9599\n",
      "23 Test accuracy: 0.9596\n",
      "24 Test accuracy: 0.9638\n",
      "25 Test accuracy: 0.9641\n",
      "26 Test accuracy: 0.9616\n",
      "27 Test accuracy: 0.9642\n",
      "28 Test accuracy: 0.9657\n",
      "29 Test accuracy: 0.9653\n",
      "30 Test accuracy: 0.9648\n",
      "31 Test accuracy: 0.9655\n",
      "32 Test accuracy: 0.9669\n",
      "33 Test accuracy: 0.9664\n",
      "34 Test accuracy: 0.9674\n",
      "35 Test accuracy: 0.9663\n",
      "36 Test accuracy: 0.9685\n",
      "37 Test accuracy: 0.9676\n",
      "38 Test accuracy: 0.9681\n",
      "39 Test accuracy: 0.9672\n",
      "40 Test accuracy: 0.9713\n",
      "41 Test accuracy: 0.9703\n",
      "42 Test accuracy: 0.97\n",
      "43 Test accuracy: 0.9711\n",
      "44 Test accuracy: 0.9707\n",
      "45 Test accuracy: 0.97\n",
      "46 Test accuracy: 0.9716\n",
      "47 Test accuracy: 0.9709\n",
      "48 Test accuracy: 0.9715\n",
      "49 Test accuracy: 0.9725\n",
      "50 Test accuracy: 0.9723\n",
      "51 Test accuracy: 0.9724\n",
      "52 Test accuracy: 0.9734\n",
      "53 Test accuracy: 0.9715\n",
      "54 Test accuracy: 0.9725\n",
      "55 Test accuracy: 0.9727\n",
      "56 Test accuracy: 0.9731\n",
      "57 Test accuracy: 0.9721\n",
      "58 Test accuracy: 0.9742\n",
      "59 Test accuracy: 0.9743\n",
      "60 Test accuracy: 0.975\n",
      "61 Test accuracy: 0.9735\n",
      "62 Test accuracy: 0.9746\n",
      "63 Test accuracy: 0.9736\n",
      "64 Test accuracy: 0.9751\n",
      "65 Test accuracy: 0.9744\n",
      "66 Test accuracy: 0.9751\n",
      "67 Test accuracy: 0.9752\n",
      "68 Test accuracy: 0.974\n",
      "69 Test accuracy: 0.9757\n",
      "70 Test accuracy: 0.9758\n",
      "71 Test accuracy: 0.9751\n",
      "72 Test accuracy: 0.9755\n",
      "73 Test accuracy: 0.9751\n",
      "74 Test accuracy: 0.9763\n",
      "75 Test accuracy: 0.976\n",
      "76 Test accuracy: 0.977\n",
      "77 Test accuracy: 0.9764\n",
      "78 Test accuracy: 0.9761\n",
      "79 Test accuracy: 0.9764\n",
      "80 Test accuracy: 0.975\n",
      "81 Test accuracy: 0.977\n",
      "82 Test accuracy: 0.9771\n",
      "83 Test accuracy: 0.9752\n",
      "84 Test accuracy: 0.9771\n",
      "85 Test accuracy: 0.9763\n",
      "86 Test accuracy: 0.977\n",
      "87 Test accuracy: 0.9762\n",
      "88 Test accuracy: 0.9762\n",
      "89 Test accuracy: 0.9775\n",
      "90 Test accuracy: 0.9766\n",
      "91 Test accuracy: 0.9772\n",
      "92 Test accuracy: 0.976\n",
      "93 Test accuracy: 0.9773\n",
      "94 Test accuracy: 0.9768\n",
      "95 Test accuracy: 0.9785\n",
      "96 Test accuracy: 0.9764\n",
      "97 Test accuracy: 0.9774\n",
      "98 Test accuracy: 0.9746\n",
      "99 Test accuracy: 0.9769\n"
     ]
    }
   ],
   "source": [
    "init = tf.global_variables_initializer()\n",
    "n_epochs = 100\n",
    "batch_size = 100\n",
    "mnist = input_data.read_data_sets(\"/tmp/data/\")\n",
    "\n",
    "with tf.Session() as sess:\n",
    "    init.run()\n",
    "    for epoch in range(n_epochs):\n",
    "        for iteration in range(len(mnist.test.labels) // batch_size):\n",
    "            X_batch, y_batch = mnist.train.next_batch(batch_size)\n",
    "            sess.run(training_op, feed_dict={X: X_batch, y: y_batch})\n",
    "        acc_test = accuracy.eval(feed_dict={X: mnist.test.images, y: mnist.test.labels})\n",
    "        print(epoch, \"Test accuracy:\", acc_test)"
   ]
  }
 ],
 "metadata": {
  "kernelspec": {
   "display_name": "Python 3",
   "language": "python",
   "name": "python3"
  },
  "language_info": {
   "codemirror_mode": {
    "name": "ipython",
    "version": 3
   },
   "file_extension": ".py",
   "mimetype": "text/x-python",
   "name": "python",
   "nbconvert_exporter": "python",
   "pygments_lexer": "ipython3",
   "version": "3.5.2"
  }
 },
 "nbformat": 4,
 "nbformat_minor": 2
}
