{
 "cells": [
  {
   "cell_type": "markdown",
   "metadata": {},
   "source": [
    "## Adam (Adaptive Moment Estimation) Optimization"
   ]
  },
  {
   "cell_type": "code",
   "execution_count": 1,
   "metadata": {
    "collapsed": true
   },
   "outputs": [],
   "source": [
    "from IPython.display import Image"
   ]
  },
  {
   "cell_type": "markdown",
   "metadata": {},
   "source": [
    "Adam optimization combines ideas behind Momentum Optimization and RMSProp Optimization."
   ]
  },
  {
   "cell_type": "code",
   "execution_count": 2,
   "metadata": {},
   "outputs": [
    {
     "data": {
      "image/png": "[encoded data removed]",
      "text/plain": [
       "<IPython.core.display.Image object>"
      ]
     },
     "execution_count": 2,
     "metadata": {},
     "output_type": "execute_result"
    }
   ],
   "source": [
    "Image(filename='images/adam-optimization.png')"
   ]
  },
  {
   "cell_type": "markdown",
   "metadata": {},
   "source": [
    "Like Momentum, Adam keeps track of an exponentially decaying average of past gradients.\n",
    "\n",
    "Like RMSProp, Adam keeps tract of an exponentially decaying average of past squared gradients."
   ]
  },
  {
   "cell_type": "markdown",
   "metadata": {},
   "source": [
    "Equation 1, 2, and 5 shows that Adam is similar to both Momentum and RMSProp.\n",
    "\n",
    "In the first step, it computes an exponentially decaying average rather than an exponentially decaying sum. Actually, decaying average is (1 - beta_1) times the decaying sum.\n",
    "\n",
    "Step 3 and 4 helps boost m and s at the beginning of the training process because both m and s are initialized to 0 (biased to 0 at the beginning of training)."
   ]
  },
  {
   "cell_type": "markdown",
   "metadata": {},
   "source": [
    "beta_1 usually takes the value of 0.9 and 0.999 for beta_2. These are default values used by TensorFlow's AdamOptimizer, and we usually don't need to tweak these hyperparameters.\n",
    "\n",
    "Adam is an adaptive learning rate algorithm, so it requires less tuning of the learning rate hyperparameter. We can just use the default value 0.001 for learning rate.\n",
    "\n",
    "Adam is generally considered faster and better than other optimization methods. However, recent researchs show that adaptive methods like AdaGrad, RMSProp and Adam generalize poorly on some datasets. As a result, we should stick with Momentum or Nesterov Accelerated Gradient first before trying adaptive methods."
   ]
  },
  {
   "cell_type": "markdown",
   "metadata": {},
   "source": [
    "### Traning Sparse Models\n",
    "All optimization algorithms including Momentum, Nesterov, AdaGrad, RMSProp and Adam produce dense models (models with most parameters be nonzero).\n",
    "\n",
    "We may need to use sparse models if we want a fast model at runtime or a model that uses less memory. \n",
    "\n",
    "A simple way to create sparse model is to train the model as usual, then remove tiny weights.\n",
    "\n",
    "Another technique using **Dual Averaging** called **Follow The Regularized Leader (FTRL)** can be used to create sparse models.\n",
    "\n",
    "TensorFlow: https://www.tensorflow.org/api_docs/python/tf/train/FtrlOptimizer"
   ]
  },
  {
   "cell_type": "code",
   "execution_count": 3,
   "metadata": {
    "collapsed": true
   },
   "outputs": [],
   "source": [
    "import tensorflow as tf\n",
    "from tensorflow.examples.tutorials.mnist import input_data"
   ]
  },
  {
   "cell_type": "code",
   "execution_count": 4,
   "metadata": {
    "collapsed": true
   },
   "outputs": [],
   "source": [
    "tf.reset_default_graph()\n",
    "n_inputs = 784\n",
    "n_hidden1 = 300\n",
    "n_hidden2 = 100\n",
    "n_outputs = 10\n",
    "learning_rate = 0.01"
   ]
  },
  {
   "cell_type": "code",
   "execution_count": 5,
   "metadata": {
    "collapsed": true
   },
   "outputs": [],
   "source": [
    "X = tf.placeholder(tf.float32, shape=(None, n_inputs), name=\"X\")\n",
    "y = tf.placeholder(tf.int64, shape=(None), name=\"y\")"
   ]
  },
  {
   "cell_type": "code",
   "execution_count": 6,
   "metadata": {
    "collapsed": true
   },
   "outputs": [],
   "source": [
    "with tf.name_scope(\"dnn\"):\n",
    "    hidden1 = tf.layers.dense(X, n_hidden1, activation=tf.nn.elu, name=\"hidden1\")\n",
    "    hidden2 = tf.layers.dense(hidden1, n_hidden2, activation=tf.nn.elu, name=\"hidden2\")\n",
    "    logits = tf.layers.dense(hidden2, n_outputs, name=\"outputs\")"
   ]
  },
  {
   "cell_type": "code",
   "execution_count": 7,
   "metadata": {
    "collapsed": true
   },
   "outputs": [],
   "source": [
    "with tf.name_scope(\"loss\"):\n",
    "    xen = tf.nn.sparse_softmax_cross_entropy_with_logits(labels=y, logits=logits)\n",
    "    loss = tf.reduce_mean(xen, name=\"loss\")"
   ]
  },
  {
   "cell_type": "code",
   "execution_count": 8,
   "metadata": {
    "collapsed": true
   },
   "outputs": [],
   "source": [
    "with tf.name_scope(\"train\"):\n",
    "    optimizer = tf.train.AdamOptimizer(learning_rate=learning_rate)\n",
    "    training_op = optimizer.minimize(loss)"
   ]
  },
  {
   "cell_type": "code",
   "execution_count": 9,
   "metadata": {
    "collapsed": true
   },
   "outputs": [],
   "source": [
    "with tf.name_scope(\"eval\"):\n",
    "    correct = tf.nn.in_top_k(logits, y, 1)\n",
    "    accuracy = tf.reduce_mean(tf.cast(correct, tf.float32))"
   ]
  },
  {
   "cell_type": "code",
   "execution_count": 10,
   "metadata": {
    "collapsed": true
   },
   "outputs": [],
   "source": [
    "init = tf.global_variables_initializer()"
   ]
  },
  {
   "cell_type": "code",
   "execution_count": 11,
   "metadata": {},
   "outputs": [
    {
     "name": "stdout",
     "output_type": "stream",
     "text": [
      "Extracting /tmp/data/train-images-idx3-ubyte.gz\n",
      "Extracting /tmp/data/train-labels-idx1-ubyte.gz\n",
      "Extracting /tmp/data/t10k-images-idx3-ubyte.gz\n",
      "Extracting /tmp/data/t10k-labels-idx1-ubyte.gz\n"
     ]
    }
   ],
   "source": [
    "n_epochs = 100\n",
    "batch_size = 100\n",
    "mnist = input_data.read_data_sets(\"/tmp/data/\")"
   ]
  },
  {
   "cell_type": "code",
   "execution_count": 12,
   "metadata": {},
   "outputs": [
    {
     "name": "stdout",
     "output_type": "stream",
     "text": [
      "0 Train accuracy: 0.91 Test accuracy: 0.9203\n",
      "1 Train accuracy: 0.96 Test accuracy: 0.9297\n",
      "2 Train accuracy: 0.95 Test accuracy: 0.9417\n",
      "3 Train accuracy: 0.98 Test accuracy: 0.9421\n",
      "4 Train accuracy: 0.96 Test accuracy: 0.9448\n",
      "5 Train accuracy: 0.98 Test accuracy: 0.9497\n",
      "6 Train accuracy: 0.97 Test accuracy: 0.9482\n",
      "7 Train accuracy: 0.99 Test accuracy: 0.9562\n",
      "8 Train accuracy: 0.97 Test accuracy: 0.9474\n",
      "9 Train accuracy: 0.97 Test accuracy: 0.9548\n",
      "10 Train accuracy: 0.98 Test accuracy: 0.9604\n",
      "11 Train accuracy: 0.98 Test accuracy: 0.9623\n",
      "12 Train accuracy: 0.97 Test accuracy: 0.952\n",
      "13 Train accuracy: 0.97 Test accuracy: 0.9618\n",
      "14 Train accuracy: 0.98 Test accuracy: 0.9495\n",
      "15 Train accuracy: 0.99 Test accuracy: 0.9556\n",
      "16 Train accuracy: 0.96 Test accuracy: 0.9659\n",
      "17 Train accuracy: 0.98 Test accuracy: 0.9555\n",
      "18 Train accuracy: 0.97 Test accuracy: 0.9619\n",
      "19 Train accuracy: 0.99 Test accuracy: 0.9636\n",
      "20 Train accuracy: 1.0 Test accuracy: 0.9645\n",
      "21 Train accuracy: 1.0 Test accuracy: 0.9635\n",
      "22 Train accuracy: 0.98 Test accuracy: 0.9624\n",
      "23 Train accuracy: 0.99 Test accuracy: 0.9705\n",
      "24 Train accuracy: 0.99 Test accuracy: 0.963\n",
      "25 Train accuracy: 0.98 Test accuracy: 0.9654\n",
      "26 Train accuracy: 0.98 Test accuracy: 0.9629\n",
      "27 Train accuracy: 0.98 Test accuracy: 0.9648\n",
      "28 Train accuracy: 1.0 Test accuracy: 0.9669\n",
      "29 Train accuracy: 0.99 Test accuracy: 0.9631\n",
      "30 Train accuracy: 0.98 Test accuracy: 0.9726\n",
      "31 Train accuracy: 0.98 Test accuracy: 0.9619\n",
      "32 Train accuracy: 0.97 Test accuracy: 0.9572\n",
      "33 Train accuracy: 0.98 Test accuracy: 0.9712\n",
      "34 Train accuracy: 1.0 Test accuracy: 0.9706\n",
      "35 Train accuracy: 0.98 Test accuracy: 0.9667\n",
      "36 Train accuracy: 0.99 Test accuracy: 0.9657\n",
      "37 Train accuracy: 0.98 Test accuracy: 0.9701\n",
      "38 Train accuracy: 0.98 Test accuracy: 0.9683\n",
      "39 Train accuracy: 0.99 Test accuracy: 0.9645\n",
      "40 Train accuracy: 0.97 Test accuracy: 0.9613\n",
      "41 Train accuracy: 0.99 Test accuracy: 0.9684\n",
      "42 Train accuracy: 0.99 Test accuracy: 0.9664\n",
      "43 Train accuracy: 1.0 Test accuracy: 0.9642\n",
      "44 Train accuracy: 0.98 Test accuracy: 0.9662\n",
      "45 Train accuracy: 0.99 Test accuracy: 0.9684\n",
      "46 Train accuracy: 0.98 Test accuracy: 0.9555\n",
      "47 Train accuracy: 0.97 Test accuracy: 0.9695\n",
      "48 Train accuracy: 0.96 Test accuracy: 0.9707\n",
      "49 Train accuracy: 0.99 Test accuracy: 0.9721\n",
      "50 Train accuracy: 0.99 Test accuracy: 0.9627\n",
      "51 Train accuracy: 0.98 Test accuracy: 0.9668\n",
      "52 Train accuracy: 0.97 Test accuracy: 0.9685\n",
      "53 Train accuracy: 0.99 Test accuracy: 0.9641\n",
      "54 Train accuracy: 1.0 Test accuracy: 0.9691\n",
      "55 Train accuracy: 1.0 Test accuracy: 0.9693\n",
      "56 Train accuracy: 1.0 Test accuracy: 0.9686\n",
      "57 Train accuracy: 0.98 Test accuracy: 0.9662\n",
      "58 Train accuracy: 1.0 Test accuracy: 0.9617\n",
      "59 Train accuracy: 0.99 Test accuracy: 0.9651\n",
      "60 Train accuracy: 0.97 Test accuracy: 0.9667\n",
      "61 Train accuracy: 1.0 Test accuracy: 0.9732\n",
      "62 Train accuracy: 1.0 Test accuracy: 0.9727\n",
      "63 Train accuracy: 1.0 Test accuracy: 0.9657\n",
      "64 Train accuracy: 0.99 Test accuracy: 0.9701\n",
      "65 Train accuracy: 0.99 Test accuracy: 0.9679\n",
      "66 Train accuracy: 0.99 Test accuracy: 0.9746\n",
      "67 Train accuracy: 0.98 Test accuracy: 0.9713\n",
      "68 Train accuracy: 0.98 Test accuracy: 0.9712\n",
      "69 Train accuracy: 1.0 Test accuracy: 0.9712\n",
      "70 Train accuracy: 0.97 Test accuracy: 0.9762\n",
      "71 Train accuracy: 0.99 Test accuracy: 0.9753\n",
      "72 Train accuracy: 0.99 Test accuracy: 0.9747\n",
      "73 Train accuracy: 0.99 Test accuracy: 0.9756\n",
      "74 Train accuracy: 1.0 Test accuracy: 0.9734\n",
      "75 Train accuracy: 1.0 Test accuracy: 0.9734\n",
      "76 Train accuracy: 0.99 Test accuracy: 0.9731\n",
      "77 Train accuracy: 1.0 Test accuracy: 0.9706\n",
      "78 Train accuracy: 1.0 Test accuracy: 0.9719\n",
      "79 Train accuracy: 0.99 Test accuracy: 0.9714\n",
      "80 Train accuracy: 1.0 Test accuracy: 0.9718\n",
      "81 Train accuracy: 1.0 Test accuracy: 0.9742\n",
      "82 Train accuracy: 1.0 Test accuracy: 0.9673\n",
      "83 Train accuracy: 1.0 Test accuracy: 0.9732\n",
      "84 Train accuracy: 0.99 Test accuracy: 0.9731\n",
      "85 Train accuracy: 1.0 Test accuracy: 0.9671\n",
      "86 Train accuracy: 0.99 Test accuracy: 0.9653\n",
      "87 Train accuracy: 0.99 Test accuracy: 0.9709\n",
      "88 Train accuracy: 1.0 Test accuracy: 0.9748\n",
      "89 Train accuracy: 1.0 Test accuracy: 0.9723\n",
      "90 Train accuracy: 0.98 Test accuracy: 0.9736\n",
      "91 Train accuracy: 0.99 Test accuracy: 0.9683\n",
      "92 Train accuracy: 1.0 Test accuracy: 0.9738\n",
      "93 Train accuracy: 1.0 Test accuracy: 0.9785\n",
      "94 Train accuracy: 0.99 Test accuracy: 0.9713\n",
      "95 Train accuracy: 1.0 Test accuracy: 0.9744\n",
      "96 Train accuracy: 0.99 Test accuracy: 0.9714\n",
      "97 Train accuracy: 0.98 Test accuracy: 0.9724\n",
      "98 Train accuracy: 1.0 Test accuracy: 0.9697\n",
      "99 Train accuracy: 0.99 Test accuracy: 0.976\n"
     ]
    }
   ],
   "source": [
    "with tf.Session() as sess:\n",
    "    init.run()\n",
    "    for epoch in range(n_epochs):\n",
    "        for iteration in range(len(mnist.test.labels) // batch_size):\n",
    "            X_batch, y_batch = mnist.train.next_batch(batch_size)\n",
    "            sess.run(training_op, feed_dict={X: X_batch, y: y_batch})\n",
    "        acc_train = accuracy.eval(feed_dict={X: X_batch, y: y_batch})\n",
    "        acc_test = accuracy.eval(feed_dict={X: mnist.test.images, y: mnist.test.labels})\n",
    "        print(epoch, \"Train accuracy:\", acc_train, \"Test accuracy:\", acc_test)"
   ]
  }
 ],
 "metadata": {
  "kernelspec": {
   "display_name": "Python 3",
   "language": "python",
   "name": "python3"
  },
  "language_info": {
   "codemirror_mode": {
    "name": "ipython",
    "version": 3
   },
   "file_extension": ".py",
   "mimetype": "text/x-python",
   "name": "python",
   "nbconvert_exporter": "python",
   "pygments_lexer": "ipython3",
   "version": "3.5.2"
  }
 },
 "nbformat": 4,
 "nbformat_minor": 2
}
