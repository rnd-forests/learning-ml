{
 "cells": [
  {
   "cell_type": "markdown",
   "metadata": {},
   "source": [
    "## Early Stopping\n",
    "Early stopping is a method to avoid overfitting the training set. The general idea is interrupting the training process when its performance on the validation set starts dropping.\n",
    "\n",
    "A simple way to implement Early Stopping in TensorFlow is to evaluate the model on a validation set at regular intervals (for example, every 50 steps), and save the best model if the current model outperforms the previous best one. Count the number of steps since the last best snapshot was saved, and interrupt training when this number reaches a limit.\n",
    "\n",
    "Early Stopping presents better performance when using with other regularization techniques."
   ]
  },
  {
   "cell_type": "code",
   "execution_count": 1,
   "metadata": {
    "collapsed": true,
    "scrolled": true
   },
   "outputs": [],
   "source": [
    "import numpy as np\n",
    "import tensorflow as tf\n",
    "from tensorflow.examples.tutorials.mnist import input_data\n",
    "\n",
    "tf.reset_default_graph()\n",
    "n_inputs = 784\n",
    "n_hidden1 = 300\n",
    "n_hidden2 = 100\n",
    "n_outputs = 10\n",
    "\n",
    "X = tf.placeholder(tf.float32, shape=(None, n_inputs), name=\"X\")\n",
    "y = tf.placeholder(tf.int64, shape=(None), name=\"y\")\n",
    "\n",
    "with tf.name_scope(\"dnn\"):\n",
    "    hidden1 = tf.layers.dense(X, n_hidden1, activation=tf.nn.elu, name=\"hidden1\")\n",
    "    hidden2 = tf.layers.dense(hidden1, n_hidden2, activation=tf.nn.elu, name=\"hidden2\")\n",
    "    logits = tf.layers.dense(hidden2, n_outputs, name=\"outputs\")\n",
    "    \n",
    "with tf.name_scope(\"loss\"):\n",
    "    xen = tf.nn.sparse_softmax_cross_entropy_with_logits(labels=y, logits=logits)\n",
    "    loss = tf.reduce_mean(xen, name=\"loss\")"
   ]
  },
  {
   "cell_type": "code",
   "execution_count": 2,
   "metadata": {
    "collapsed": true,
    "scrolled": true
   },
   "outputs": [],
   "source": [
    "with tf.name_scope(\"train\"):\n",
    "    initial_learning_rate = 0.1\n",
    "    decay_steps = 10000\n",
    "    decay_rate = 1/10\n",
    "    global_step = tf.Variable(0, trainable=False, name=\"global_step\")\n",
    "    learning_rate = tf.train.exponential_decay(initial_learning_rate, global_step, decay_steps, decay_rate)\n",
    "    optimizer = tf.train.MomentumOptimizer(learning_rate, momentum=0.9)\n",
    "    training_op = optimizer.minimize(loss, global_step=global_step)"
   ]
  },
  {
   "cell_type": "code",
   "execution_count": 3,
   "metadata": {
    "collapsed": true,
    "scrolled": true
   },
   "outputs": [],
   "source": [
    "with tf.name_scope(\"eval\"):\n",
    "    correct = tf.nn.in_top_k(logits, y, 1)\n",
    "    accuracy = tf.reduce_mean(tf.cast(correct, tf.float32))"
   ]
  },
  {
   "cell_type": "code",
   "execution_count": 7,
   "metadata": {
    "scrolled": false
   },
   "outputs": [
    {
     "name": "stdout",
     "output_type": "stream",
     "text": [
      "Extracting /tmp/data/train-images-idx3-ubyte.gz\n",
      "Extracting /tmp/data/train-labels-idx1-ubyte.gz\n",
      "Extracting /tmp/data/t10k-images-idx3-ubyte.gz\n",
      "Extracting /tmp/data/t10k-labels-idx1-ubyte.gz\n",
      "Epoch: 0 -- Validation Accuracy: 0.9205\n",
      "Epoch: 1 -- Validation Accuracy: 0.928167\n",
      "Epoch: 2 -- Validation Accuracy: 0.952667\n",
      "Epoch: 3 -- Validation Accuracy: 0.9445\n",
      "Epoch: 4 -- Validation Accuracy: 0.9575\n",
      "Epoch: 5 -- Validation Accuracy: 0.959\n",
      "Epoch: 6 -- Validation Accuracy: 0.966833\n",
      "Epoch: 7 -- Validation Accuracy: 0.9635\n",
      "Epoch: 8 -- Validation Accuracy: 0.968667\n",
      "Epoch: 9 -- Validation Accuracy: 0.968667\n",
      "Epoch: 10 -- Validation Accuracy: 0.974333\n",
      "Epoch: 11 -- Validation Accuracy: 0.972667\n",
      "Epoch: 12 -- Validation Accuracy: 0.967\n",
      "Epoch: 13 -- Validation Accuracy: 0.974833\n",
      "Epoch: 14 -- Validation Accuracy: 0.9725\n",
      "Epoch: 15 -- Validation Accuracy: 0.975833\n",
      "Epoch: 16 -- Validation Accuracy: 0.975833\n",
      "Epoch: 17 -- Validation Accuracy: 0.975167\n",
      "Epoch: 18 -- Validation Accuracy: 0.977333\n",
      "Epoch: 19 -- Validation Accuracy: 0.9755\n",
      "Epoch: 20 -- Validation Accuracy: 0.978667\n",
      "Epoch: 21 -- Validation Accuracy: 0.979167\n",
      "Epoch: 22 -- Validation Accuracy: 0.976333\n",
      "Epoch: 23 -- Validation Accuracy: 0.978667\n",
      "Epoch: 24 -- Validation Accuracy: 0.977667\n",
      "Epoch: 25 -- Validation Accuracy: 0.978833\n",
      "Epoch: 26 -- Validation Accuracy: 0.979167\n",
      "Epoch: 27 -- Validation Accuracy: 0.980333\n",
      "Epoch: 28 -- Validation Accuracy: 0.98\n",
      "Epoch: 29 -- Validation Accuracy: 0.979333\n",
      "Epoch: 30 -- Validation Accuracy: 0.9805\n",
      "Epoch: 31 -- Validation Accuracy: 0.98\n",
      "Epoch: 32 -- Validation Accuracy: 0.983167\n",
      "Epoch: 33 -- Validation Accuracy: 0.98\n",
      "Epoch: 34 -- Validation Accuracy: 0.980333\n",
      "Epoch: 35 -- Validation Accuracy: 0.981333\n",
      "Epoch: 36 -- Validation Accuracy: 0.981333\n",
      "Epoch: 37 -- Validation Accuracy: 0.983167\n",
      "Epoch: 38 -- Validation Accuracy: 0.984333\n",
      "Epoch: 39 -- Validation Accuracy: 0.982667\n",
      "Epoch: 40 -- Validation Accuracy: 0.981833\n",
      "Epoch: 41 -- Validation Accuracy: 0.982\n",
      "Epoch: 42 -- Validation Accuracy: 0.9825\n",
      "Epoch: 43 -- Validation Accuracy: 0.983\n",
      "Epoch: 44 -- Validation Accuracy: 0.982833\n",
      "Epoch: 45 -- Validation Accuracy: 0.984167\n",
      "Epoch: 46 -- Validation Accuracy: 0.983333\n",
      "Epoch: 47 -- Validation Accuracy: 0.983\n",
      "Epoch: 48 -- Validation Accuracy: 0.983667\n",
      "Epoch: 49 -- Validation Accuracy: 0.984333\n",
      "Best Epoch: 38\n"
     ]
    }
   ],
   "source": [
    "init = tf.global_variables_initializer()\n",
    "\n",
    "n_epochs = 50\n",
    "batch_size = 100\n",
    "\n",
    "best_epoch = None # Store the epoch with the highest accuracy score\n",
    "best_accuracy = 0.95 # Best accuracy threshold\n",
    "\n",
    "mnist = input_data.read_data_sets(\"/tmp/data/\", validation_size=6000)\n",
    "\n",
    "saver = tf.train.Saver()\n",
    "\n",
    "with tf.Session() as sess:\n",
    "    init.run()\n",
    "    for epoch in range(n_epochs):\n",
    "        for iteration in range(len(mnist.test.labels) // batch_size):\n",
    "            X_batch, y_batch = mnist.train.next_batch(batch_size)\n",
    "            sess.run(training_op, feed_dict={X: X_batch, y: y_batch})\n",
    "        \n",
    "        # Evaluate the model every 50 epochs on the validation set\n",
    "        # And store the best model if available\n",
    "        # if epoch % 5 == 0:\n",
    "        acc_val = accuracy.eval(feed_dict={X: mnist.validation.images, y: mnist.validation.labels})\n",
    "        print(\"Epoch:\", epoch, \"--\", \"Validation Accuracy:\", acc_val)\n",
    "        if acc_val > best_accuracy:\n",
    "            best_accuracy = acc_val\n",
    "            best_epoch = epoch\n",
    "            saver.save(sess, \"models/early_stopping/best_model.cpkt\")\n",
    "    print(\"Best Epoch:\", best_epoch)"
   ]
  },
  {
   "cell_type": "code",
   "execution_count": 10,
   "metadata": {},
   "outputs": [
    {
     "name": "stdout",
     "output_type": "stream",
     "text": [
      "INFO:tensorflow:Restoring parameters from models/early_stopping/best_model.cpkt\n",
      "[[ -2.51853991   1.08582044   1.5616163    7.22020721  -9.50950432\n",
      "   -3.73617554  -9.01093388  15.74015522  -3.00265861   3.07920527]\n",
      " [  0.6129775   10.28488541  26.42911148   5.81304073 -11.73921967\n",
      "   -0.18888301   0.61764717  -7.79584026  -1.73719966 -19.26265335]\n",
      " [ -3.13051486  13.50319576   1.41257191  -3.43775916  -0.76488507\n",
      "   -5.24222326  -0.36236531   4.75409317   3.10113931  -8.68609905]\n",
      " [ 15.61366463  -6.77007484   2.39362192  -5.58926535  -6.12625551\n",
      "    2.73630071   0.81752777  -2.13054991 -10.53195572  -0.92315429]\n",
      " [ -4.73786783  -5.75126553  -5.48402357  -6.6187048   19.08856201\n",
      "   -7.31355095  -3.13586926   2.47816038  -3.82513142   8.68794155]\n",
      " [ -1.55765939  17.8956852    0.45966649  -3.93115544   2.69311619\n",
      "   -9.62004757  -2.92325091   9.11577892   1.29965532  -9.57527065]\n",
      " [ -8.00997925  -2.34052086  -3.2098434   -6.23173523  15.72913361\n",
      "   -2.66440678  -2.5109787    2.93699384   6.76463652   6.9805789 ]\n",
      " [ -5.50957775  -6.40035582   1.30016184   6.83413935   2.17810678\n",
      "   -3.745502   -12.91571808   0.1807957   -2.78900409  14.19684505]\n",
      " [ -8.50307083  -6.60903978  -0.43020508  -4.24336338 -13.0592308\n",
      "   14.88235474   8.9438839   -3.45051312   4.70516825   5.5426507 ]\n",
      " [ -6.86457157  -8.7384491   -9.88025761  -2.66484141  13.11827469\n",
      "   -4.6194272   -8.58264637   5.87915134   5.35582304  19.62876129]\n",
      " [ 28.85741615  -2.45792341   8.2193222  -10.87656021 -10.65942955\n",
      "   -4.23825359   1.31345439   4.20713377 -15.65268517   2.63676047]\n",
      " [  4.69992447  -8.55326176  -4.03994989  -4.51540089   1.24704611\n",
      "    5.08347654  18.36971855  -7.62328053   6.47651672 -12.65537834]\n",
      " [ -8.0797081   -6.87774992  -7.02424288   2.76821852   7.42998838\n",
      "   -2.96296787 -11.36489296   2.19899893  -0.56657708  17.92124176]\n",
      " [ 21.75724792 -10.31364441   2.58221984 -10.88019371  -6.71506882\n",
      "   -1.53531671  -1.48807514   9.1357317   -6.94714117   2.23734546]\n",
      " [ -7.86156702  18.61343384  -3.80167222   0.32816389   0.87642992\n",
      "   -8.79852104  -1.73045695   5.05167675   2.26488853  -0.32270783]\n",
      " [ -3.30861735   1.87665915  -3.92005038   7.44288683  -6.75298071\n",
      "   18.27437401  -4.26934195  -4.27607727  -1.18949687   3.15272784]\n",
      " [ -1.57817125 -11.1984024   -1.22309542  -2.04311299   4.9380064\n",
      "   -7.14192104 -10.71164608   4.78441     -0.36699411  18.17963982]\n",
      " [ -0.32093516   1.91235173   4.69135809   7.60703611 -10.23636627\n",
      "   -4.46332932  -8.9420042   18.54272079 -11.43938923   4.00025368]\n",
      " [ -3.28776932  -3.91040277  -0.20876294   8.25259018  -3.03990126\n",
      "    0.57364452  -1.2218889   -3.96409893   6.37759161  -2.28169012]\n",
      " [ -7.87952089  -2.0557282   -3.29678321  -6.32431555  24.63614273\n",
      "   -5.94216013  -3.3114059    2.67172694  -5.96325397   5.37821722]\n",
      " [  4.08913469   0.27227893 -11.80853558  -5.26024389   1.45696557\n",
      "   -0.38566631  -8.06079769   9.39599419  -2.59170365  15.6393919 ]\n",
      " [  0.10531878  -9.4896965   -4.09453535  -2.3756969   -2.94859385\n",
      "    6.58010483  16.85756302  -7.31190109   3.18448138  -4.63833189]\n",
      " [  5.06215429  -5.86236238  -5.78067207  -4.73780775   0.55602825\n",
      "   -3.96320343  19.82937622   1.2408663   -0.59118235  -8.48890305]\n",
      " [-10.63965511  -1.3655827   -5.43734694   7.40596247 -11.82443237\n",
      "   27.71986008   4.8641324   -8.07191086  -2.93420815   4.50074005]\n",
      " [ -2.92186713  -3.51523495  -2.86821485  -8.00271893  16.94119072\n",
      "   -0.09565532  -2.93092036   4.670187    -8.09439754   5.74598074]\n",
      " [ 20.43979073 -10.83596992   1.68756855 -14.36594296   2.0683496\n",
      "  -12.1477375    2.76495934   1.33697832  -6.26587629   6.82332659]\n",
      " [  3.5777657   -7.1682992    4.0707283    4.49112988  -8.75407982\n",
      "    1.34572768 -16.30971146  22.4300518  -13.14702702   9.13544941]\n",
      " [-11.04315186  -5.78182411  -5.44782829  -4.13910675  27.70065117\n",
      "   -6.44379473  -4.15185595   3.49123406  -5.03148794   8.12732029]\n",
      " [ 28.15470695  -5.50540972  10.20522022  -3.40036464 -18.27245712\n",
      "   -4.00596237  -1.64535677  -0.62453592  -9.5124321    0.08860073]\n",
      " [ -7.5469861   13.98009396  -0.84527814   2.24038935   3.00730062\n",
      "   -1.44430232   0.15243164   0.66752952   3.71391606  -3.77319956]]\n",
      "Predicted classes: [7 2 1 0 4 1 4 9 5 9 0 6 9 0 1 5 9 7 3 4 9 6 6 5 4 0 7 4 0 1]\n",
      "Actual classes   : [7 2 1 0 4 1 4 9 5 9 0 6 9 0 1 5 9 7 3 4 9 6 6 5 4 0 7 4 0 1]\n",
      "1.0\n"
     ]
    }
   ],
   "source": [
    "from sklearn.metrics import accuracy_score\n",
    "\n",
    "# Restore the best model and make predictions\n",
    "with tf.Session() as sess:\n",
    "    saver.restore(sess, \"models/early_stopping/best_model.cpkt\")\n",
    "    X_new_scaled = mnist.test.images[:30]\n",
    "    Z = logits.eval(feed_dict={X: X_new_scaled})\n",
    "    y_pred = np.argmax(Z, axis=1)\n",
    "\n",
    "    print(\"Predicted classes:\", y_pred)\n",
    "    print(\"Actual classes   :\", mnist.test.labels[:30])\n",
    "    print(accuracy_score(mnist.test.labels[:30], y_pred))"
   ]
  },
  {
   "cell_type": "code",
   "execution_count": null,
   "metadata": {
    "collapsed": true
   },
   "outputs": [],
   "source": []
  }
 ],
 "metadata": {
  "kernelspec": {
   "display_name": "Python 3",
   "language": "python",
   "name": "python3"
  },
  "language_info": {
   "codemirror_mode": {
    "name": "ipython",
    "version": 3
   },
   "file_extension": ".py",
   "mimetype": "text/x-python",
   "name": "python",
   "nbconvert_exporter": "python",
   "pygments_lexer": "ipython3",
   "version": "3.5.2"
  }
 },
 "nbformat": 4,
 "nbformat_minor": 2
}
